{
 "cells": [
  {
   "cell_type": "code",
   "execution_count": null,
   "id": "be730712-18da-488f-abe9-0bfd290892e1",
   "metadata": {},
   "outputs": [],
   "source": [
    "import pandas as pd\n",
    "import seaborn as sns"
   ]
  },
  {
   "cell_type": "markdown",
   "id": "afeb8d0b-9d43-4810-94e3-65481bb7c142",
   "metadata": {},
   "source": [
    "# SMOTE for Imbalanced Classification\n",
    "Synthetic Minority Oversampling Technique <br>\n",
    "https://imbalanced-learn.org/stable/introduction.html"
   ]
  },
  {
   "cell_type": "code",
   "execution_count": null,
   "id": "24911c75-a722-4199-a945-4ea71467ca92",
   "metadata": {},
   "outputs": [],
   "source": [
    "from collections import Counter\n",
    "from sklearn.datasets import make_classification\n",
    "\n",
    "from numpy import where\n",
    "\n",
    "X, y = make_classification(n_samples=10000, n_features=2, n_redundant=0,\n",
    "                           n_clusters_per_class=1, weights=[0.99], flip_y=0, random_state=1)\n",
    "\n",
    "counter = Counter(y)\n",
    "counter"
   ]
  },
  {
   "cell_type": "code",
   "execution_count": null,
   "id": "48925801-a2c3-4eb1-9c8c-9d1a7ac75ceb",
   "metadata": {},
   "outputs": [],
   "source": [
    "from matplotlib import pyplot\n",
    "\n",
    "for label, _ in counter.items():\n",
    "    row_ix = where(y == label)[0]\n",
    "    pyplot.scatter(X[row_ix, 0], X[row_ix, 1], label=str(label))\n",
    "pyplot.legend()\n",
    "pyplot.show()"
   ]
  },
  {
   "cell_type": "code",
   "execution_count": null,
   "id": "87f17de4-d397-415f-9cd1-bc1d7d5368fc",
   "metadata": {},
   "outputs": [],
   "source": [
    "from imblearn.over_sampling import SMOTE\n",
    "\n",
    "oversample = SMOTE(sampling_strategy=0.3)\n",
    "X_resampled, y_resampled = oversample.fit_resample(X, y)\n",
    "\n",
    "counter = Counter(y_resampled)\n",
    "counter\n"
   ]
  },
  {
   "cell_type": "code",
   "execution_count": null,
   "id": "c8a98fa4-791d-4ecd-92f5-40869d3574a0",
   "metadata": {},
   "outputs": [],
   "source": [
    "for label, _ in counter.items():\n",
    "    row_ix = where(y_resampled == label)[0]\n",
    "    pyplot.scatter(X_resampled[row_ix, 0], X_resampled[row_ix, 1], label=str(label))\n",
    "pyplot.legend()\n",
    "pyplot.show()"
   ]
  },
  {
   "cell_type": "code",
   "execution_count": null,
   "id": "e68cdb67-9a6e-49ed-a312-be8bde5fcf22",
   "metadata": {},
   "outputs": [],
   "source": [
    "from imblearn.under_sampling import RandomUnderSampler\n",
    "from imblearn.pipeline import Pipeline\n",
    "\n",
    "\n",
    "over = SMOTE(sampling_strategy=0.3)\n",
    "under = RandomUnderSampler(sampling_strategy=0.5)\n",
    "\n",
    "pipeline = Pipeline(steps=[('over', over), ('under', under)])\n",
    "\n",
    "X_ou, y_ou = pipeline.fit_resample(X, y)\n",
    "counter = Counter(y_ou)\n",
    "\n",
    "counter"
   ]
  },
  {
   "cell_type": "code",
   "execution_count": null,
   "id": "48a59cd7-23ad-4273-998f-68c9ab596a42",
   "metadata": {},
   "outputs": [],
   "source": [
    "for label, _ in counter.items():\n",
    "    row_ix = where(y_ou == label)[0]\n",
    "    pyplot.scatter(X_ou[row_ix, 0], X_ou[row_ix, 1], label=str(label))\n",
    "pyplot.legend()\n",
    "pyplot.show()"
   ]
  },
  {
   "cell_type": "code",
   "execution_count": null,
   "id": "752522df-df4e-4f04-ad39-eca1b5c66f72",
   "metadata": {},
   "outputs": [],
   "source": [
    "from numpy import mean\n",
    "from sklearn.linear_model import LogisticRegression\n",
    "from sklearn.tree import DecisionTreeClassifier \n",
    "from sklearn.model_selection import StratifiedKFold, cross_val_score\n",
    "\n",
    "#model = DecisionTreeClassifier()\n",
    "model = LogisticRegression()\n",
    "\n",
    "cv = StratifiedKFold(n_splits=10)\n",
    "\n",
    "over_pipeline = pipeline = Pipeline(steps=[('over', over), ('model', model)])\n",
    "\n",
    "over_under_pipeline = pipeline = Pipeline(steps=[('over', over), ('under', under), ('model', model)])\n",
    "\n",
    "original_scores = cross_val_score(model, X, y, scoring='roc_auc', cv=cv, n_jobs=-1)\n",
    "print('Mean ROC AUC for original data: %.3f' % mean(original_scores))\n",
    "\n",
    "over_scores = cross_val_score(over_pipeline, X, y, scoring='roc_auc', cv=cv, n_jobs=-1)\n",
    "print('Mean ROC AUC for oversampled data: %.3f' % mean(over_scores))\n",
    "\n",
    "over_under_scores = cross_val_score(over_pipeline, X, y, scoring='roc_auc', cv=cv, n_jobs=-1)\n",
    "print('Mean ROC AUC for over- and undersampled data: %.3f' % mean(over_under_scores))\n"
   ]
  },
  {
   "cell_type": "code",
   "execution_count": null,
   "id": "47f1531d-5ff2-4d99-b567-22f06cd3cd40",
   "metadata": {},
   "outputs": [],
   "source": []
  }
 ],
 "metadata": {
  "kernelspec": {
   "display_name": "Python 3 (ipykernel)",
   "language": "python",
   "name": "python3"
  },
  "language_info": {
   "codemirror_mode": {
    "name": "ipython",
    "version": 3
   },
   "file_extension": ".py",
   "mimetype": "text/x-python",
   "name": "python",
   "nbconvert_exporter": "python",
   "pygments_lexer": "ipython3",
   "version": "3.9.13"
  }
 },
 "nbformat": 4,
 "nbformat_minor": 5
}
