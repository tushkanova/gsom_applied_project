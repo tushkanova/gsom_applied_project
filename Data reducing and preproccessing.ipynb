{
 "cells": [
  {
   "cell_type": "markdown",
   "id": "ab8dffe2-d65f-44e1-ae35-73220eeaa5ab",
   "metadata": {},
   "source": [
    "# Data reducing and preproccessing\n",
    "(AMEX example)"
   ]
  },
  {
   "cell_type": "code",
   "execution_count": null,
   "id": "95068f40-6cc8-49b5-9dd5-dae6dec6196b",
   "metadata": {},
   "outputs": [],
   "source": [
    "import pandas as pd\n",
    "import numpy as np"
   ]
  },
  {
   "cell_type": "code",
   "execution_count": null,
   "id": "a72cb8d1-0058-44d4-a970-a68faf14557e",
   "metadata": {},
   "outputs": [],
   "source": [
    "AMEX_TRAIN_DATA_PATH = 'train_data.csv.zip'\n",
    "AMEX_TRAIN_LABELS_PATH = 'train_labels.csv.zip'\n",
    "\n",
    "HM_TRAIN_DATA_PATH = 'train_data.csv.zip'"
   ]
  },
  {
   "cell_type": "markdown",
   "id": "d04cd571-6450-47e3-8798-d797a79a578f",
   "metadata": {},
   "source": [
    "## Calculate data size"
   ]
  },
  {
   "cell_type": "code",
   "execution_count": null,
   "id": "ddeecf1a-1909-44b1-82e0-442e7da70b1d",
   "metadata": {},
   "outputs": [],
   "source": [
    "train = pd.read_csv(AMEX_TRAIN_DATA_PATH, usecols=['customer_ID'])\n",
    "train_len = len(train)\n",
    "\n",
    "print(f'There are {train_len} rows in train.')\n",
    "del train"
   ]
  },
  {
   "cell_type": "markdown",
   "id": "60dd2559-50a1-4fb2-a819-27c051b79a1c",
   "metadata": {},
   "source": [
    "## Spot room for improvment"
   ]
  },
  {
   "cell_type": "code",
   "execution_count": null,
   "id": "ed23cf02-2593-450c-97e9-98210b953890",
   "metadata": {},
   "outputs": [],
   "source": [
    "train =  pd.read_csv(AMEX_TRAIN_DATA_PATH, nrows=100000)\n",
    "train[:10]"
   ]
  },
  {
   "cell_type": "code",
   "execution_count": null,
   "id": "52fffbe1-a307-4acf-a9ba-56ce4426fac7",
   "metadata": {},
   "outputs": [],
   "source": [
    "train.info(verbose=True, show_counts=True)"
   ]
  },
  {
   "cell_type": "code",
   "execution_count": null,
   "id": "626ed44f-1df4-46ce-b909-442711521237",
   "metadata": {},
   "outputs": [],
   "source": [
    "null_cols = train.loc[:, train.isnull().mean() > .90].columns.to_list()\n",
    "null_cols"
   ]
  },
  {
   "cell_type": "code",
   "execution_count": null,
   "id": "559b6689-4d14-4db2-8c8a-16c15e121c4c",
   "metadata": {},
   "outputs": [],
   "source": [
    "train[['customer_ID','S_2','D_63', 'D_64']][:10]"
   ]
  },
  {
   "cell_type": "code",
   "execution_count": null,
   "id": "5101465d-c588-4b28-a8b8-da5404ef5f17",
   "metadata": {},
   "outputs": [],
   "source": [
    "train.customer_ID.iloc[0]"
   ]
  },
  {
   "cell_type": "code",
   "execution_count": null,
   "id": "3039e2ea-eb46-4fee-ac34-2aa3271ec7f7",
   "metadata": {},
   "outputs": [],
   "source": [
    "train.nunique()[105:120]"
   ]
  },
  {
   "cell_type": "code",
   "execution_count": null,
   "id": "685052b7-57c3-4d50-88fa-d54dc44d2d1d",
   "metadata": {},
   "outputs": [],
   "source": [
    "train[['B_30', 'D_87', 'B_31']][:10]"
   ]
  },
  {
   "cell_type": "markdown",
   "id": "565609ab-3459-4b7f-8a41-1eb29aeb8f1b",
   "metadata": {},
   "source": [
    "## Drop null columns "
   ]
  },
  {
   "cell_type": "code",
   "execution_count": null,
   "id": "c093ab3f-3c67-4667-87b3-2f8899f69713",
   "metadata": {},
   "outputs": [],
   "source": [
    "train = train.drop(columns=null_cols)"
   ]
  },
  {
   "cell_type": "markdown",
   "id": "c04a03c0-ece6-4a12-8a54-5aaa41ef8345",
   "metadata": {},
   "source": [
    "## Convert dates"
   ]
  },
  {
   "cell_type": "code",
   "execution_count": null,
   "id": "2db7cbd5-a1f9-4ead-b883-92f6f60402f1",
   "metadata": {},
   "outputs": [],
   "source": [
    "train.S_2 = pd.to_datetime(train.S_2)\n",
    "\n",
    "train['year'] = (train.S_2.dt.year - 2000).astype('int8')\n",
    "train['month'] = (train.S_2.dt.month).astype('int8')\n",
    "train['day'] = (train.S_2.dt.day).astype('int8')\n",
    "\n",
    "del train['S_2']"
   ]
  },
  {
   "cell_type": "code",
   "execution_count": null,
   "id": "1be95cfb-c884-404b-9735-45933facb82b",
   "metadata": {},
   "outputs": [],
   "source": [
    "train[['year', 'month', 'day']][:5]"
   ]
  },
  {
   "cell_type": "markdown",
   "id": "eb716019-9cc1-486e-badc-fe0fbc831a99",
   "metadata": {
    "tags": []
   },
   "source": [
    "## Convert categories to int"
   ]
  },
  {
   "cell_type": "markdown",
   "id": "eb857bb0-0853-47ad-9c31-48d231a50d80",
   "metadata": {},
   "source": [
    "**!! Remember that we have been looking at only 100000 rows !!**"
   ]
  },
  {
   "cell_type": "code",
   "execution_count": null,
   "id": "1a8915f7-f27a-45be-8bb4-a4207b7329e2",
   "metadata": {},
   "outputs": [],
   "source": [
    "train_b_30 = pd.read_csv(AMEX_TRAIN_DATA_PATH, usecols=['B_30'])\n",
    "\n",
    "train_b_30.describe().astype('category')"
   ]
  },
  {
   "cell_type": "code",
   "execution_count": null,
   "id": "fa2ac757-b2ec-4048-b2a5-83bf36f80882",
   "metadata": {},
   "outputs": [],
   "source": [
    "del train_b_30"
   ]
  },
  {
   "cell_type": "code",
   "execution_count": null,
   "id": "ed349771-91c5-4624-bf9b-e04e392ed799",
   "metadata": {},
   "outputs": [],
   "source": [
    "categories = ['B_30', 'B_31']\n",
    "\n",
    "for c in categories:\n",
    "    train[c] = train[c].fillna(-2).astype('int8') # int cannot have na!"
   ]
  },
  {
   "cell_type": "markdown",
   "id": "f27a95f8-5fb8-4d76-9b1b-d4c0629b1034",
   "metadata": {},
   "source": [
    "## Convert string categories"
   ]
  },
  {
   "cell_type": "code",
   "execution_count": null,
   "id": "fda36495-d62a-40a1-b784-2f004bc1824c",
   "metadata": {},
   "outputs": [],
   "source": [
    "train.D_63.value_counts()"
   ]
  },
  {
   "cell_type": "code",
   "execution_count": null,
   "id": "caef64fb-2155-431a-935f-36b842c11c66",
   "metadata": {},
   "outputs": [],
   "source": [
    "d_63_map = {'CL':2, 'CO':3, 'CR':4, 'XL':5, 'XM':6, 'XZ':7}\n",
    "\n",
    "train.D_63 = train.D_63.map(d_63_map).fillna(-2).astype('int8')"
   ]
  },
  {
   "cell_type": "code",
   "execution_count": null,
   "id": "4936a355-f884-4fad-a381-0a2cd1444caa",
   "metadata": {},
   "outputs": [],
   "source": [
    "train.D_63 = train.D_63.astype('category')"
   ]
  },
  {
   "cell_type": "markdown",
   "id": "15edb983-6545-4fb5-96ec-e58851ae0732",
   "metadata": {},
   "source": [
    "**!! During training, ensure that algorithm does not treat them as ordered !!**"
   ]
  },
  {
   "cell_type": "markdown",
   "id": "816db1aa-7aec-4ae5-be8b-44697badad1e",
   "metadata": {
    "tags": []
   },
   "source": [
    "## Reduce float size"
   ]
  },
  {
   "cell_type": "markdown",
   "id": "ce0b3662-74a8-4ce6-91ab-3aa182c8b437",
   "metadata": {},
   "source": [
    "**Float Downcasting Value Range:**\n",
    "- float16 - Half precision float : sign bit, 5 bits exponent, 10 bits mantissa\n",
    "- float32 - Single precision float: sign bit, 8 bits exponent, 23 bits mantissa\n",
    "- float64 - Double precision float: sign bit, 11 bits exponent, 52 bits mantissa"
   ]
  },
  {
   "cell_type": "code",
   "execution_count": null,
   "id": "2dada948-06fe-4729-87c6-499be8113c48",
   "metadata": {},
   "outputs": [],
   "source": [
    "for col in train.columns:\n",
    "    if str(train[col].dtype) =='float64':\n",
    "        train[col] = train[col].astype('float32')"
   ]
  },
  {
   "cell_type": "markdown",
   "id": "7c72dfa3-faf2-4b99-ab8b-f95ba800eda3",
   "metadata": {},
   "source": [
    "**Int Downcasting Value Range**:\n",
    "- int 8 can store ints from -128 to 128\n",
    "- int 16 can store ints from -32768 to 32768\n",
    "- int 32 can store ints from -2147483648 to 2147483648\n",
    "- int 64 can store ints from -9223372036854775808 to 9223372036854775808"
   ]
  },
  {
   "cell_type": "markdown",
   "id": "925e46ae-b2a9-4555-9ba4-94d45c06d25b",
   "metadata": {},
   "source": [
    "## Hex to int"
   ]
  },
  {
   "cell_type": "code",
   "execution_count": null,
   "id": "4a5770b9-efd9-478a-8329-58d44ccaa32b",
   "metadata": {},
   "outputs": [],
   "source": [
    "targets = pd.read_csv(AMEX_TRAIN_LABELS_PATH)\n",
    "print(f'There are {len(targets)} train targets')"
   ]
  },
  {
   "cell_type": "code",
   "execution_count": null,
   "id": "ab230066-72c9-4654-920b-54f74c98ee36",
   "metadata": {},
   "outputs": [],
   "source": [
    "targets.info()"
   ]
  },
  {
   "cell_type": "code",
   "execution_count": null,
   "id": "afa54331-8af3-4462-9624-4cd3b8746338",
   "metadata": {},
   "outputs": [],
   "source": [
    "print(f'There are {len(targets.customer_ID.unique())} unique train targets')"
   ]
  },
  {
   "cell_type": "code",
   "execution_count": null,
   "id": "464f24c1-0a95-4053-a704-1ca0704ef105",
   "metadata": {},
   "outputs": [],
   "source": [
    "targets[:5]"
   ]
  },
  {
   "cell_type": "code",
   "execution_count": null,
   "id": "42d9bc9c-a733-4ad6-9f10-1ac0df843722",
   "metadata": {},
   "outputs": [],
   "source": [
    "targets.customer_ID = targets.customer_ID.apply(lambda x: int(x[-16:],16) ).astype('int64')\n",
    "targets.target = targets.target.astype('int8')\n",
    "\n",
    "print(f'There are {len(targets.customer_ID.unique())} unique short train targets')"
   ]
  },
  {
   "cell_type": "code",
   "execution_count": null,
   "id": "106c2ff3-1326-45cd-9314-03a2f22fa7af",
   "metadata": {},
   "outputs": [],
   "source": [
    "targets.info()"
   ]
  },
  {
   "cell_type": "code",
   "execution_count": null,
   "id": "4b41f704-bef5-438e-a780-bd80a31774b6",
   "metadata": {},
   "outputs": [],
   "source": [
    "targets.to_csv('train_labels_short.csv.zip', index=False, compression={'method': 'zip', 'archive_name': 'train_labels_short.csv'})\n",
    "del targets"
   ]
  },
  {
   "cell_type": "markdown",
   "id": "f25771f7-b370-470f-8b6a-ac70283db8cd",
   "metadata": {},
   "source": [
    "'train_labels.csv.zip' size: 17 MB <br>\n",
    "'train_labels_short.csv.zip' size: 5.9 MB"
   ]
  },
  {
   "cell_type": "code",
   "execution_count": null,
   "id": "4a445c24-fe6b-4522-84b6-5805f0f38751",
   "metadata": {},
   "outputs": [],
   "source": [
    "train['customer_ID'] = train['customer_ID'].apply(lambda x: int(x[-16:], 16) ).astype('int64')"
   ]
  },
  {
   "cell_type": "markdown",
   "id": "90de3b9e-c5c1-45f3-a75b-c66d3eae216b",
   "metadata": {},
   "source": [
    "## Save options"
   ]
  },
  {
   "cell_type": "code",
   "execution_count": null,
   "id": "7b21ed80-dc62-415b-a0e9-c0e037fde756",
   "metadata": {},
   "outputs": [],
   "source": [
    "# pip install fastparquet\n",
    "# pip install pyarrow"
   ]
  },
  {
   "cell_type": "code",
   "execution_count": null,
   "id": "bd8681d1-e626-4d09-875d-1246c1951566",
   "metadata": {},
   "outputs": [],
   "source": [
    "train.to_csv('train_part.csv.zip', index=False) # looses dtypes\n",
    "\n",
    "train.to_pickle('train_part.pickle') \n",
    "train.to_parquet('train_part.parquet')\n",
    "train.to_feather('train_part.feather')\n",
    "\n",
    "np.save('train_part', train)"
   ]
  },
  {
   "cell_type": "code",
   "execution_count": null,
   "id": "bd32c0ff-0c69-424e-b0d1-b0a903cf5863",
   "metadata": {},
   "outputs": [],
   "source": [
    "train_part.csv.zip 126.5 MB\n",
    "train_part.feather 127.7 MB\n",
    "train_part.pkl     137.7 MB\n",
    "train_part.parquet 150.7 MB\n",
    "train_part.npy     154.9 MB"
   ]
  },
  {
   "cell_type": "markdown",
   "id": "6a8d452e-908b-4b03-b222-cf52aa2181db",
   "metadata": {},
   "source": [
    "## Load data by chunks"
   ]
  },
  {
   "cell_type": "code",
   "execution_count": null,
   "id": "cf95a63f-38dc-4f4e-b700-55367ed140b2",
   "metadata": {},
   "outputs": [],
   "source": [
    "# You can also make sure that you don't split customers\n",
    "\n",
    "chunksize = int(train_len / 5)\n",
    "\n",
    "for index, chunk in enumerate(pd.read_csv(AMEX_TRAIN_DATA_PATH, chunksize=chunksize), start=1):\n",
    "    \n",
    "    # processing is applied here \n",
    "    \n",
    "    np.save(f'train_{index}', chunk)\n",
    "    "
   ]
  },
  {
   "cell_type": "code",
   "execution_count": null,
   "id": "62eca46c-ed08-4f6e-9379-3b6047c6f13c",
   "metadata": {},
   "outputs": [],
   "source": []
  },
  {
   "cell_type": "code",
   "execution_count": null,
   "id": "1201db02-fbeb-4526-9230-a2c8b2f0eb5f",
   "metadata": {},
   "outputs": [],
   "source": []
  },
  {
   "cell_type": "code",
   "execution_count": null,
   "id": "db532f83-d118-443f-8117-57339490f4eb",
   "metadata": {},
   "outputs": [],
   "source": [
    "train.info()"
   ]
  },
  {
   "cell_type": "code",
   "execution_count": null,
   "id": "c53e3532-78f8-4c18-9b1c-9f16ad66044c",
   "metadata": {},
   "outputs": [],
   "source": []
  },
  {
   "cell_type": "markdown",
   "id": "24475f16-c968-453b-8492-0e33b02bef16",
   "metadata": {},
   "source": [
    "Materials used:\n",
    "https://www.kaggle.com/competitions/amex-default-prediction/discussion/328054\n"
   ]
  },
  {
   "cell_type": "code",
   "execution_count": null,
   "id": "4177cd77-8ff3-4ad5-9848-08123119625d",
   "metadata": {},
   "outputs": [],
   "source": []
  }
 ],
 "metadata": {
  "kernelspec": {
   "display_name": "Python 3 (ipykernel)",
   "language": "python",
   "name": "python3"
  },
  "language_info": {
   "codemirror_mode": {
    "name": "ipython",
    "version": 3
   },
   "file_extension": ".py",
   "mimetype": "text/x-python",
   "name": "python",
   "nbconvert_exporter": "python",
   "pygments_lexer": "ipython3",
   "version": "3.9.13"
  }
 },
 "nbformat": 4,
 "nbformat_minor": 5
}
